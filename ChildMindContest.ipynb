{
 "cells": [
  {
   "cell_type": "code",
   "execution_count": 1,
   "id": "a51b2eb6-7202-46c9-ad34-60c84fb8c584",
   "metadata": {},
   "outputs": [],
   "source": [
    "import pandas as pd\n",
    "import numpy as np\n",
    "import matplotlib.pyplot as plt\n",
    "import seaborn as sns\n",
    "import torch as nn\n",
    "import polars as pl"
   ]
  },
  {
   "cell_type": "code",
   "execution_count": 2,
   "id": "658da10b",
   "metadata": {},
   "outputs": [],
   "source": [
    "#wow it works"
   ]
  },
  {
   "cell_type": "code",
   "execution_count": 3,
   "id": "6add3938",
   "metadata": {},
   "outputs": [],
   "source": [
    "test_series = pl.scan_parquet(r\"C:\\Users\\TESTER\\OneDrive\\Ambiente de Trabalho\\kaggle competition\\series_test.parquet\")\n",
    "train_series = pl.scan_parquet(r\"C:\\Users\\TESTER\\OneDrive\\Ambiente de Trabalho\\kaggle competition\\series_train.parquet\")"
   ]
  },
  {
   "cell_type": "code",
   "execution_count": 4,
   "id": "29ba9e1f",
   "metadata": {},
   "outputs": [
    {
     "name": "stderr",
     "output_type": "stream",
     "text": [
      "C:\\Users\\TESTER\\AppData\\Local\\Temp\\ipykernel_36868\\4169596693.py:1: PerformanceWarning: Determining the column names of a LazyFrame requires resolving its schema, which is a potentially expensive operation. Use `LazyFrame.collect_schema().names()` to get the column names without this warning.\n",
      "  train_series.columns\n"
     ]
    },
    {
     "data": {
      "text/plain": [
       "['step',\n",
       " 'X',\n",
       " 'Y',\n",
       " 'Z',\n",
       " 'enmo',\n",
       " 'anglez',\n",
       " 'non-wear_flag',\n",
       " 'light',\n",
       " 'battery_voltage',\n",
       " 'time_of_day',\n",
       " 'weekday',\n",
       " 'quarter',\n",
       " 'relative_date_PCIAT',\n",
       " 'id']"
      ]
     },
     "execution_count": 4,
     "metadata": {},
     "output_type": "execute_result"
    }
   ],
   "source": [
    "train_series.columns"
   ]
  },
  {
   "cell_type": "code",
   "execution_count": 5,
   "id": "4c387440",
   "metadata": {},
   "outputs": [
    {
     "data": {
      "text/html": [
       "<div><style>\n",
       ".dataframe > thead > tr,\n",
       ".dataframe > tbody > tr {\n",
       "  text-align: right;\n",
       "  white-space: pre-wrap;\n",
       "}\n",
       "</style>\n",
       "<small>shape: (5, 14)</small><table border=\"1\" class=\"dataframe\"><thead><tr><th>step</th><th>X</th><th>Y</th><th>Z</th><th>enmo</th><th>anglez</th><th>non-wear_flag</th><th>light</th><th>battery_voltage</th><th>time_of_day</th><th>weekday</th><th>quarter</th><th>relative_date_PCIAT</th><th>id</th></tr><tr><td>u32</td><td>f32</td><td>f32</td><td>f32</td><td>f32</td><td>f32</td><td>f32</td><td>f32</td><td>f32</td><td>i64</td><td>i8</td><td>i8</td><td>f32</td><td>str</td></tr></thead><tbody><tr><td>0</td><td>0.021536</td><td>0.022214</td><td>-1.02237</td><td>0.022853</td><td>-88.280762</td><td>0.0</td><td>53.0</td><td>4188.0</td><td>56940000000000</td><td>4</td><td>3</td><td>41.0</td><td>&quot;00115b9f&quot;</td></tr><tr><td>1</td><td>0.022005</td><td>0.022187</td><td>-1.01974</td><td>0.020231</td><td>-88.241707</td><td>0.0</td><td>51.666668</td><td>4188.166504</td><td>56945000000000</td><td>4</td><td>3</td><td>41.0</td><td>&quot;00115b9f&quot;</td></tr><tr><td>2</td><td>0.02224</td><td>0.022005</td><td>-1.019401</td><td>0.019893</td><td>-88.170067</td><td>0.0</td><td>50.333332</td><td>4188.333496</td><td>56950000000000</td><td>4</td><td>3</td><td>41.0</td><td>&quot;00115b9f&quot;</td></tr><tr><td>3</td><td>0.021589</td><td>0.022578</td><td>-1.018177</td><td>0.018667</td><td>-88.250031</td><td>0.0</td><td>50.5</td><td>4188.5</td><td>56955000000000</td><td>4</td><td>3</td><td>41.0</td><td>&quot;00115b9f&quot;</td></tr><tr><td>4</td><td>0.022005</td><td>0.023763</td><td>-1.014323</td><td>0.016848</td><td>-88.130775</td><td>0.0</td><td>33.166668</td><td>4181.0</td><td>57235000000000</td><td>4</td><td>3</td><td>41.0</td><td>&quot;00115b9f&quot;</td></tr></tbody></table></div>"
      ],
      "text/plain": [
       "shape: (5, 14)\n",
       "┌──────┬──────────┬──────────┬───────────┬───┬─────────┬─────────┬─────────────────────┬──────────┐\n",
       "│ step ┆ X        ┆ Y        ┆ Z         ┆ … ┆ weekday ┆ quarter ┆ relative_date_PCIAT ┆ id       │\n",
       "│ ---  ┆ ---      ┆ ---      ┆ ---       ┆   ┆ ---     ┆ ---     ┆ ---                 ┆ ---      │\n",
       "│ u32  ┆ f32      ┆ f32      ┆ f32       ┆   ┆ i8      ┆ i8      ┆ f32                 ┆ str      │\n",
       "╞══════╪══════════╪══════════╪═══════════╪═══╪═════════╪═════════╪═════════════════════╪══════════╡\n",
       "│ 0    ┆ 0.021536 ┆ 0.022214 ┆ -1.02237  ┆ … ┆ 4       ┆ 3       ┆ 41.0                ┆ 00115b9f │\n",
       "│ 1    ┆ 0.022005 ┆ 0.022187 ┆ -1.01974  ┆ … ┆ 4       ┆ 3       ┆ 41.0                ┆ 00115b9f │\n",
       "│ 2    ┆ 0.02224  ┆ 0.022005 ┆ -1.019401 ┆ … ┆ 4       ┆ 3       ┆ 41.0                ┆ 00115b9f │\n",
       "│ 3    ┆ 0.021589 ┆ 0.022578 ┆ -1.018177 ┆ … ┆ 4       ┆ 3       ┆ 41.0                ┆ 00115b9f │\n",
       "│ 4    ┆ 0.022005 ┆ 0.023763 ┆ -1.014323 ┆ … ┆ 4       ┆ 3       ┆ 41.0                ┆ 00115b9f │\n",
       "└──────┴──────────┴──────────┴───────────┴───┴─────────┴─────────┴─────────────────────┴──────────┘"
      ]
     },
     "execution_count": 5,
     "metadata": {},
     "output_type": "execute_result"
    }
   ],
   "source": [
    "train_series.head(5).collect()"
   ]
  },
  {
   "cell_type": "code",
   "execution_count": 6,
   "id": "cc64cf2d",
   "metadata": {},
   "outputs": [
    {
     "data": {
      "text/html": [
       "<i>naive plan: (run <b>LazyFrame.explain(optimized=True)</b> to see the optimized plan)</i>\n",
       "    <p></p>\n",
       "    <div>SLICE[offset: 0, len: 5]<p></p>  Parquet SCAN [C:\\Users\\TESTER\\OneDrive\\Ambiente de Trabalho\\kaggle competition\\series_train.parquet\\id=00115b9f\\part-0.parquet, ... 995 other sources]<p></p>  PROJECT */14 COLUMNS</div>"
      ],
      "text/plain": [
       "<LazyFrame at 0x2051E386C80>"
      ]
     },
     "execution_count": 6,
     "metadata": {},
     "output_type": "execute_result"
    }
   ],
   "source": [
    "train_series.head() #without the collect it doesn't work"
   ]
  },
  {
   "cell_type": "code",
   "execution_count": 7,
   "id": "d026ffde",
   "metadata": {},
   "outputs": [
    {
     "data": {
      "text/plain": [
       "Schema([('step', UInt32),\n",
       "        ('X', Float32),\n",
       "        ('Y', Float32),\n",
       "        ('Z', Float32),\n",
       "        ('enmo', Float32),\n",
       "        ('anglez', Float32),\n",
       "        ('non-wear_flag', Float32),\n",
       "        ('light', Float32),\n",
       "        ('battery_voltage', Float32),\n",
       "        ('time_of_day', Int64),\n",
       "        ('weekday', Int8),\n",
       "        ('quarter', Int8),\n",
       "        ('relative_date_PCIAT', Float32),\n",
       "        ('id', String)])"
      ]
     },
     "execution_count": 7,
     "metadata": {},
     "output_type": "execute_result"
    }
   ],
   "source": [
    "train_series.collect_schema()"
   ]
  },
  {
   "cell_type": "code",
   "execution_count": 9,
   "id": "65721b28",
   "metadata": {},
   "outputs": [
    {
     "ename": "",
     "evalue": "",
     "output_type": "error",
     "traceback": [
      "\u001b[1;31mThe Kernel crashed while executing code in the current cell or a previous cell. \n",
      "\u001b[1;31mPlease review the code in the cell(s) to identify a possible cause of the failure. \n",
      "\u001b[1;31mClick <a href='https://aka.ms/vscodeJupyterKernelCrash'>here</a> for more info. \n",
      "\u001b[1;31mView Jupyter <a href='command:jupyter.viewOutput'>log</a> for further details."
     ]
    }
   ],
   "source": [
    "first_observation_per_id = (\n",
    "    train_series\n",
    "    .sort(\"step\")  # Sort by 'step' to ensure the first observation is actually the earliest\n",
    "    .group_by(\"id\")\n",
    "    .agg(pl.all().first())  # Aggregate to take the first row of each column for each 'id' group\n",
    "    .collect()  # Collect to execute and return a DataFrame\n",
    ")"
   ]
  },
  {
   "cell_type": "code",
   "execution_count": null,
   "id": "14eab33a",
   "metadata": {},
   "outputs": [],
   "source": [
    "first_observation_per_id"
   ]
  }
 ],
 "metadata": {
  "kernelspec": {
   "display_name": "Python 3",
   "language": "python",
   "name": "python3"
  },
  "language_info": {
   "codemirror_mode": {
    "name": "ipython",
    "version": 3
   },
   "file_extension": ".py",
   "mimetype": "text/x-python",
   "name": "python",
   "nbconvert_exporter": "python",
   "pygments_lexer": "ipython3",
   "version": "3.10.11"
  }
 },
 "nbformat": 4,
 "nbformat_minor": 5
}
